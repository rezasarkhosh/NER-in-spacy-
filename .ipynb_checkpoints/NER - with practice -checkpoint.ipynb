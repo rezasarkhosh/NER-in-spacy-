{
 "cells": [
  {
   "cell_type": "code",
   "execution_count": 87,
   "id": "27199d00",
   "metadata": {},
   "outputs": [],
   "source": [
    "import spacy\n",
    "nlp = spacy.load(\"en_core_web_sm\")"
   ]
  },
  {
   "cell_type": "code",
   "execution_count": 88,
   "id": "72dddb95",
   "metadata": {},
   "outputs": [
    {
     "data": {
      "text/plain": [
       "['tok2vec', 'tagger', 'parser', 'attribute_ruler', 'lemmatizer', 'ner']"
      ]
     },
     "execution_count": 88,
     "metadata": {},
     "output_type": "execute_result"
    }
   ],
   "source": [
    "nlp.pipe_names"
   ]
  },
  {
   "cell_type": "code",
   "execution_count": 89,
   "id": "dc6110a7",
   "metadata": {
    "scrolled": true
   },
   "outputs": [
    {
     "name": "stdout",
     "output_type": "stream",
     "text": [
      "Tesla Inc | ORG : Companies, agencies, institutions, etc.\n",
      "Twitter | PRODUCT : Objects, vehicles, foods, etc. (not services)\n",
      "$45 billion | MONEY : Monetary values, including unit\n"
     ]
    }
   ],
   "source": [
    "doc = nlp(\"Tesla Inc is going to acquire Twitter for $45 billion\")\n",
    "\n",
    "for ent in doc.ents:\n",
    "    print(ent.text , \"|\", ent.label_ , \":\" , spacy.explain(ent.label_))"
   ]
  },
  {
   "cell_type": "code",
   "execution_count": 90,
   "id": "035bc71b",
   "metadata": {},
   "outputs": [
    {
     "data": {
      "text/html": [
       "<span class=\"tex2jax_ignore\"><div class=\"entities\" style=\"line-height: 2.5; direction: ltr\">\n",
       "<mark class=\"entity\" style=\"background: #7aecec; padding: 0.45em 0.6em; margin: 0 0.25em; line-height: 1; border-radius: 0.35em;\">\n",
       "    Tesla Inc\n",
       "    <span style=\"font-size: 0.8em; font-weight: bold; line-height: 1; border-radius: 0.35em; vertical-align: middle; margin-left: 0.5rem\">ORG</span>\n",
       "</mark>\n",
       " is going to acquire \n",
       "<mark class=\"entity\" style=\"background: #bfeeb7; padding: 0.45em 0.6em; margin: 0 0.25em; line-height: 1; border-radius: 0.35em;\">\n",
       "    Twitter\n",
       "    <span style=\"font-size: 0.8em; font-weight: bold; line-height: 1; border-radius: 0.35em; vertical-align: middle; margin-left: 0.5rem\">PRODUCT</span>\n",
       "</mark>\n",
       " for \n",
       "<mark class=\"entity\" style=\"background: #e4e7d2; padding: 0.45em 0.6em; margin: 0 0.25em; line-height: 1; border-radius: 0.35em;\">\n",
       "    $45 billion\n",
       "    <span style=\"font-size: 0.8em; font-weight: bold; line-height: 1; border-radius: 0.35em; vertical-align: middle; margin-left: 0.5rem\">MONEY</span>\n",
       "</mark>\n",
       "</div></span>"
      ],
      "text/plain": [
       "<IPython.core.display.HTML object>"
      ]
     },
     "metadata": {},
     "output_type": "display_data"
    }
   ],
   "source": [
    "from spacy import displacy\n",
    "displacy.render(doc , style=\"ent\")"
   ]
  },
  {
   "cell_type": "code",
   "execution_count": 91,
   "id": "ba62cc7c",
   "metadata": {},
   "outputs": [
    {
     "data": {
      "text/plain": [
       "['CARDINAL',\n",
       " 'DATE',\n",
       " 'EVENT',\n",
       " 'FAC',\n",
       " 'GPE',\n",
       " 'LANGUAGE',\n",
       " 'LAW',\n",
       " 'LOC',\n",
       " 'MONEY',\n",
       " 'NORP',\n",
       " 'ORDINAL',\n",
       " 'ORG',\n",
       " 'PERCENT',\n",
       " 'PERSON',\n",
       " 'PRODUCT',\n",
       " 'QUANTITY',\n",
       " 'TIME',\n",
       " 'WORK_OF_ART']"
      ]
     },
     "execution_count": 91,
     "metadata": {},
     "output_type": "execute_result"
    }
   ],
   "source": [
    "nlp.pipe_labels['ner']"
   ]
  },
  {
   "cell_type": "code",
   "execution_count": 92,
   "id": "28873bcf",
   "metadata": {},
   "outputs": [
    {
     "name": "stdout",
     "output_type": "stream",
     "text": [
      "Tesla Inc | ORG\n",
      "Twitter | ORG\n",
      "$45 billion | MONEY\n"
     ]
    }
   ],
   "source": [
    "#we are customizing tokens entities  \n",
    "from spacy.tokens import Span\n",
    "s1= Span(doc , 0,1, label=\"ORG\")\n",
    "s2= Span(doc , 6,7, label=\"ORG\")\n",
    "\n",
    "\n",
    "\n",
    "doc.set_ents([s1,s2],default=\"unmodified\")\n",
    "for ent in doc.ents:\n",
    "    print(ent.text ,\"|\", ent.label_)"
   ]
  },
  {
   "cell_type": "code",
   "execution_count": 120,
   "id": "988094c3",
   "metadata": {},
   "outputs": [
    {
     "name": "stdout",
     "output_type": "stream",
     "text": [
      "India | GPE\n",
      "Delhi | GPE\n",
      "Gujarat | GPE\n",
      "Tamilnadu | GPE\n",
      "Andhrapradesh | GPE\n",
      "Assam | GPE\n",
      "Bihar | GPE\n"
     ]
    }
   ],
   "source": [
    "# Now I want to give a simple exercise with solution:\n",
    "# Extract all the Geographical (cities, Countries, states) names from a given text:\n",
    "text = \"\"\"Kiran want to know the famous foods in each state of India. So, he opened Google and search for this question. Google showed that\n",
    "in Delhi it is Chaat, in Gujarat it is Dal Dhokli, in Tamilnadu it is Pongal, in Andhrapradesh it is Biryani, in Assam it is Papaya Khar,\n",
    "in Bihar it is Litti Chowkha and so on for all other states\"\"\"\n",
    "\n",
    "doc = nlp(text)\n",
    "\n",
    "s1=Span(doc ,45,46, label=\"EVENT\")\n",
    "doc.set_ents([s1], default=\"unmodified\")\n",
    "\n",
    "for ent in doc.ents:\n",
    "    if ent.label_ == 'GPE':\n",
    "        print(ent.text , \"|\" , ent.label_)"
   ]
  },
  {
   "cell_type": "code",
   "execution_count": 121,
   "id": "c9f2ccb8",
   "metadata": {},
   "outputs": [
    {
     "name": "stdout",
     "output_type": "stream",
     "text": [
      "24 April 1973\n",
      "5 November 1988\n",
      "7 July 1981\n",
      "19 December 1974\n",
      "the number of dates in the text is : 4\n"
     ]
    }
   ],
   "source": [
    "#Now its time to working on another exercise:\n",
    "#Extract all the birth dates of cricketers in the given Text\n",
    "text = \"\"\"Sachin Tendulkar was born on 24 April 1973, Virat Kholi was born on 5 November 1988, Dhoni was born on 7 July 1981\n",
    "and finally Ricky ponting was born on 19 December 1974.\"\"\"\n",
    "doc = nlp(text)\n",
    "dates = []\n",
    "for ent in doc.ents:\n",
    "    if ent.label_ in [\"DATE\"]:\n",
    "          dates.append(ent.text)\n",
    "            \n",
    "for date in dates:\n",
    "    print(date)\n",
    "    \n",
    "print(\"the number of dates in the text is :\" , len(dates))\n"
   ]
  },
  {
   "cell_type": "code",
   "execution_count": null,
   "id": "0eb81c07",
   "metadata": {},
   "outputs": [],
   "source": []
  }
 ],
 "metadata": {
  "kernelspec": {
   "display_name": "Python 3 (ipykernel)",
   "language": "python",
   "name": "python3"
  },
  "language_info": {
   "codemirror_mode": {
    "name": "ipython",
    "version": 3
   },
   "file_extension": ".py",
   "mimetype": "text/x-python",
   "name": "python",
   "nbconvert_exporter": "python",
   "pygments_lexer": "ipython3",
   "version": "3.9.13"
  }
 },
 "nbformat": 4,
 "nbformat_minor": 5
}
